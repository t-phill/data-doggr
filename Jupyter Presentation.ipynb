{
 "cells": [
  {
   "cell_type": "code",
   "execution_count": 1,
   "metadata": {},
   "outputs": [],
   "source": [
    "import pandas as pd \n",
    "import numpy as np \n",
    "import glob\n",
    "\n",
    "import psycopg2\n",
    "import sys\n",
    "from datetime import datetime\n",
    "import pandas.io.sql as psql\n",
    "\n",
    "from db_parse import * \n",
    "from load_post import *\n",
    "from pg import *\n",
    "\n",
    "import matplotlib.pyplot as plt\n",
    "import seaborn as sns\n",
    "\n",
    "from scipy import stats\n",
    "%matplotlib inline\n",
    "from scipy.stats import binom\n",
    "from scipy.stats import norm"
   ]
  },
  {
   "cell_type": "code",
   "execution_count": 2,
   "metadata": {},
   "outputs": [
    {
     "name": "stdout",
     "output_type": "stream",
     "text": [
      "<class 'pandas.core.frame.DataFrame'>\n",
      "RangeIndex: 103405 entries, 0 to 103404\n",
      "Data columns (total 28 columns):\n",
      "district_num               103405 non-null int64\n",
      "formatted_api_num          103405 non-null object\n",
      "operator_name              103405 non-null object\n",
      "operator_code              103405 non-null object\n",
      "field_name                 103405 non-null object\n",
      "field_code                 103405 non-null int64\n",
      "api_num                    103405 non-null int64\n",
      "lease_name                 69868 non-null object\n",
      "well_num                   103404 non-null object\n",
      "well_status                103405 non-null object\n",
      "pool_welltypes             103405 non-null object\n",
      "section                    103405 non-null int64\n",
      "township                   103405 non-null object\n",
      "range                      103405 non-null object\n",
      "base_meridian              103405 non-null object\n",
      "area_code                  103405 non-null int64\n",
      "area_name                  103405 non-null object\n",
      "latitude                   103405 non-null float64\n",
      "longitude                  103405 non-null float64\n",
      "gissourcecode              103405 non-null object\n",
      "datumcode                  103405 non-null object\n",
      "blmwell                    103405 non-null object\n",
      "dryhole                    103405 non-null object\n",
      "directional                103405 non-null object\n",
      "hydraulically_fractured    103405 non-null object\n",
      "spud_date                  34136 non-null object\n",
      "completion_date            29990 non-null object\n",
      "abandoned_date             195 non-null object\n",
      "dtypes: float64(2), int64(5), object(21)\n",
      "memory usage: 22.1+ MB\n"
     ]
    }
   ],
   "source": [
    "sum_parse().info()"
   ]
  },
  {
   "cell_type": "code",
   "execution_count": 3,
   "metadata": {},
   "outputs": [
    {
     "name": "stdout",
     "output_type": "stream",
     "text": [
      "<class 'pandas.core.frame.DataFrame'>\n",
      "Int64Index: 1139961 entries, 1 to 535\n",
      "Data columns (total 17 columns):\n",
      "api_number             1139961 non-null int64\n",
      "production_date        1139961 non-null object\n",
      "oil_produced_bbl       1097397 non-null float64\n",
      "water_produced_bbl     1095656 non-null float64\n",
      "gas_produced_mcf       1054418 non-null float64\n",
      "days_well_produced     1098631 non-null float64\n",
      "gravity_of_oil         1078425 non-null float64\n",
      "casing_pressure        797479 non-null float64\n",
      "tubing_pressure        808149 non-null float64\n",
      "btu                    473576 non-null float64\n",
      "method_of_operation    1001660 non-null object\n",
      "water_disposition      1004917 non-null float64\n",
      "pwt_status             1139961 non-null object\n",
      "well_type              1139961 non-null object\n",
      "status                 1032462 non-null float64\n",
      "pool_code              1139961 non-null float64\n",
      "reported_date          1139961 non-null datetime64[ns]\n",
      "dtypes: datetime64[ns](1), float64(11), int64(1), object(4)\n",
      "memory usage: 156.5+ MB\n"
     ]
    }
   ],
   "source": [
    "parse_excel('/Users/taylorphillips/Downloads/*.xlsx').info()"
   ]
  },
  {
   "cell_type": "code",
   "execution_count": 4,
   "metadata": {},
   "outputs": [],
   "source": [
    "run load_post.py"
   ]
  },
  {
   "cell_type": "code",
   "execution_count": 5,
   "metadata": {},
   "outputs": [
    {
     "name": "stdout",
     "output_type": "stream",
     "text": [
      "Connecting to Database\n",
      "Truncated summary\n",
      "Loaded data into summary\n",
      "DB connection closed.\n",
      "Connecting to Database\n",
      "Truncated production\n",
      "Loaded data into production\n",
      "DB connection closed.\n"
     ]
    }
   ],
   "source": [
    "pg_load_table('/Users/taylorphillips/galvanize/capstone/summary.csv', 'summary', 'welldata', 'localhost', 'taylorphillips')\n",
    "pg_load_table('/Users/taylorphillips/galvanize/capstone/production.csv', 'production', 'welldata', 'localhost', 'taylorphillips')"
   ]
  },
  {
   "cell_type": "code",
   "execution_count": 6,
   "metadata": {},
   "outputs": [],
   "source": [
    "run pg.py"
   ]
  },
  {
   "cell_type": "code",
   "execution_count": 55,
   "metadata": {},
   "outputs": [
    {
     "data": {
      "text/html": [
       "<div>\n",
       "<style scoped>\n",
       "    .dataframe tbody tr th:only-of-type {\n",
       "        vertical-align: middle;\n",
       "    }\n",
       "\n",
       "    .dataframe tbody tr th {\n",
       "        vertical-align: top;\n",
       "    }\n",
       "\n",
       "    .dataframe thead th {\n",
       "        text-align: right;\n",
       "    }\n",
       "</style>\n",
       "<table border=\"1\" class=\"dataframe\">\n",
       "  <thead>\n",
       "    <tr style=\"text-align: right;\">\n",
       "      <th></th>\n",
       "      <th>operator_name</th>\n",
       "      <th>well_count</th>\n",
       "      <th>idle_count</th>\n",
       "      <th>idle_rate</th>\n",
       "    </tr>\n",
       "  </thead>\n",
       "  <tbody>\n",
       "    <tr>\n",
       "      <th>0</th>\n",
       "      <td>California Resources Elk Hills, LLC</td>\n",
       "      <td>534</td>\n",
       "      <td>446.0</td>\n",
       "      <td>0.835206</td>\n",
       "    </tr>\n",
       "    <tr>\n",
       "      <th>1</th>\n",
       "      <td>Chevron U.S.A. Inc.</td>\n",
       "      <td>443</td>\n",
       "      <td>175.0</td>\n",
       "      <td>0.395034</td>\n",
       "    </tr>\n",
       "    <tr>\n",
       "      <th>2</th>\n",
       "      <td>California Resources Production Corporation</td>\n",
       "      <td>224</td>\n",
       "      <td>129.0</td>\n",
       "      <td>0.575893</td>\n",
       "    </tr>\n",
       "    <tr>\n",
       "      <th>3</th>\n",
       "      <td>Crimson Resource Management Corp.</td>\n",
       "      <td>142</td>\n",
       "      <td>82.0</td>\n",
       "      <td>0.577465</td>\n",
       "    </tr>\n",
       "    <tr>\n",
       "      <th>4</th>\n",
       "      <td>Vaquero Energy, Inc.</td>\n",
       "      <td>101</td>\n",
       "      <td>35.0</td>\n",
       "      <td>0.346535</td>\n",
       "    </tr>\n",
       "  </tbody>\n",
       "</table>\n",
       "</div>"
      ],
      "text/plain": [
       "                                 operator_name  well_count  idle_count  \\\n",
       "0          California Resources Elk Hills, LLC         534       446.0   \n",
       "1                          Chevron U.S.A. Inc.         443       175.0   \n",
       "2  California Resources Production Corporation         224       129.0   \n",
       "3            Crimson Resource Management Corp.         142        82.0   \n",
       "4                         Vaquero Energy, Inc.         101        35.0   \n",
       "\n",
       "   idle_rate  \n",
       "0   0.835206  \n",
       "1   0.395034  \n",
       "2   0.575893  \n",
       "3   0.577465  \n",
       "4   0.346535  "
      ]
     },
     "execution_count": 55,
     "metadata": {},
     "output_type": "execute_result"
    }
   ],
   "source": [
    "df.head()\n"
   ]
  },
  {
   "cell_type": "code",
   "execution_count": 60,
   "metadata": {},
   "outputs": [
    {
     "data": {
      "text/plain": [
       "operator_name    California Resources Elk Hills, LLCChevron U.S...\n",
       "well_count                                                    2352\n",
       "idle_count                                                    1232\n",
       "idle_rate                                                  30.1331\n",
       "dtype: object"
      ]
     },
     "execution_count": 60,
     "metadata": {},
     "output_type": "execute_result"
    }
   ],
   "source": [
    "df.sum()"
   ]
  },
  {
   "cell_type": "code",
   "execution_count": 63,
   "metadata": {},
   "outputs": [
    {
     "name": "stdout",
     "output_type": "stream",
     "text": [
      "2352 1232.0\n"
     ]
    }
   ],
   "source": [
    "print(samp_n, samp_x)"
   ]
  },
  {
   "cell_type": "code",
   "execution_count": 56,
   "metadata": {},
   "outputs": [
    {
     "data": {
      "text/html": [
       "<div>\n",
       "<style scoped>\n",
       "    .dataframe tbody tr th:only-of-type {\n",
       "        vertical-align: middle;\n",
       "    }\n",
       "\n",
       "    .dataframe tbody tr th {\n",
       "        vertical-align: top;\n",
       "    }\n",
       "\n",
       "    .dataframe thead th {\n",
       "        text-align: right;\n",
       "    }\n",
       "</style>\n",
       "<table border=\"1\" class=\"dataframe\">\n",
       "  <thead>\n",
       "    <tr style=\"text-align: right;\">\n",
       "      <th></th>\n",
       "      <th>operator_name</th>\n",
       "      <th>well_count</th>\n",
       "      <th>idle_count</th>\n",
       "      <th>idle_rate</th>\n",
       "    </tr>\n",
       "  </thead>\n",
       "  <tbody>\n",
       "    <tr>\n",
       "      <th>0</th>\n",
       "      <td>California Resources Elk Hills, LLC</td>\n",
       "      <td>535</td>\n",
       "      <td>280.0</td>\n",
       "      <td>0.523364</td>\n",
       "    </tr>\n",
       "    <tr>\n",
       "      <th>1</th>\n",
       "      <td>Chevron U.S.A. Inc.</td>\n",
       "      <td>446</td>\n",
       "      <td>105.0</td>\n",
       "      <td>0.235426</td>\n",
       "    </tr>\n",
       "    <tr>\n",
       "      <th>2</th>\n",
       "      <td>California Resources Production Corporation</td>\n",
       "      <td>225</td>\n",
       "      <td>69.0</td>\n",
       "      <td>0.306667</td>\n",
       "    </tr>\n",
       "    <tr>\n",
       "      <th>3</th>\n",
       "      <td>Crimson Resource Management Corp.</td>\n",
       "      <td>142</td>\n",
       "      <td>65.0</td>\n",
       "      <td>0.457746</td>\n",
       "    </tr>\n",
       "    <tr>\n",
       "      <th>4</th>\n",
       "      <td>Vaquero Energy, Inc.</td>\n",
       "      <td>101</td>\n",
       "      <td>21.0</td>\n",
       "      <td>0.207921</td>\n",
       "    </tr>\n",
       "  </tbody>\n",
       "</table>\n",
       "</div>"
      ],
      "text/plain": [
       "                                 operator_name  well_count  idle_count  \\\n",
       "0          California Resources Elk Hills, LLC         535       280.0   \n",
       "1                          Chevron U.S.A. Inc.         446       105.0   \n",
       "2  California Resources Production Corporation         225        69.0   \n",
       "3            Crimson Resource Management Corp.         142        65.0   \n",
       "4                         Vaquero Energy, Inc.         101        21.0   \n",
       "\n",
       "   idle_rate  \n",
       "0   0.523364  \n",
       "1   0.235426  \n",
       "2   0.306667  \n",
       "3   0.457746  \n",
       "4   0.207921  "
      ]
     },
     "execution_count": 56,
     "metadata": {},
     "output_type": "execute_result"
    }
   ],
   "source": [
    "df10.head()"
   ]
  },
  {
   "cell_type": "code",
   "execution_count": 61,
   "metadata": {},
   "outputs": [
    {
     "data": {
      "text/plain": [
       "operator_name    California Resources Elk Hills, LLCChevron U.S...\n",
       "well_count                                                    2371\n",
       "idle_count                                                     711\n",
       "idle_rate                                                  15.7073\n",
       "dtype: object"
      ]
     },
     "execution_count": 61,
     "metadata": {},
     "output_type": "execute_result"
    }
   ],
   "source": [
    "df10.sum()"
   ]
  },
  {
   "cell_type": "code",
   "execution_count": 64,
   "metadata": {},
   "outputs": [
    {
     "name": "stdout",
     "output_type": "stream",
     "text": [
      "2371 711.0\n"
     ]
    }
   ],
   "source": [
    "print(samp10_n, samp10_x)"
   ]
  },
  {
   "cell_type": "code",
   "execution_count": 72,
   "metadata": {},
   "outputs": [],
   "source": [
    "samp_p = samp_x / samp_n\n",
    "samp10_p = samp10_x / samp10_n"
   ]
  },
  {
   "cell_type": "code",
   "execution_count": 73,
   "metadata": {},
   "outputs": [],
   "source": [
    "n = 103405\n",
    "p = 30000 / 103405"
   ]
  },
  {
   "cell_type": "code",
   "execution_count": 84,
   "metadata": {},
   "outputs": [
    {
     "data": {
      "text/plain": [
       "0.5238095238095238"
      ]
     },
     "execution_count": 84,
     "metadata": {},
     "output_type": "execute_result"
    }
   ],
   "source": [
    "samp_p"
   ]
  },
  {
   "cell_type": "code",
   "execution_count": 86,
   "metadata": {},
   "outputs": [
    {
     "data": {
      "text/plain": [
       "0.2998734711092366"
      ]
     },
     "execution_count": 86,
     "metadata": {},
     "output_type": "execute_result"
    }
   ],
   "source": [
    "samp10_p"
   ]
  },
  {
   "cell_type": "code",
   "execution_count": 98,
   "metadata": {},
   "outputs": [
    {
     "name": "stdout",
     "output_type": "stream",
     "text": [
      "EV:  54164.52380952381\n",
      "EV10year:  31008.416280050613\n"
     ]
    }
   ],
   "source": [
    "print('EV: ', n*samp_p)\n",
    "print('EV10year: ', n*samp10_p)"
   ]
  },
  {
   "cell_type": "code",
   "execution_count": null,
   "metadata": {},
   "outputs": [],
   "source": []
  },
  {
   "cell_type": "code",
   "execution_count": 74,
   "metadata": {},
   "outputs": [
    {
     "data": {
      "text/plain": [
       "3.208658661728345e-124"
      ]
     },
     "execution_count": 74,
     "metadata": {},
     "output_type": "execute_result"
    }
   ],
   "source": [
    "stats.binom_test(samp_x, n=samp_n, p=p, alternative='greater')"
   ]
  },
  {
   "cell_type": "code",
   "execution_count": null,
   "metadata": {},
   "outputs": [],
   "source": []
  },
  {
   "cell_type": "code",
   "execution_count": 75,
   "metadata": {},
   "outputs": [
    {
     "data": {
      "text/plain": [
       "0.15301161169114375"
      ]
     },
     "execution_count": 75,
     "metadata": {},
     "output_type": "execute_result"
    }
   ],
   "source": [
    "stats.binom_test(samp10_x, n=samp10_n, p=p, alternative='greater')"
   ]
  },
  {
   "cell_type": "code",
   "execution_count": null,
   "metadata": {},
   "outputs": [],
   "source": []
  },
  {
   "cell_type": "code",
   "execution_count": 76,
   "metadata": {},
   "outputs": [
    {
     "data": {
      "text/html": [
       "<div>\n",
       "<style scoped>\n",
       "    .dataframe tbody tr th:only-of-type {\n",
       "        vertical-align: middle;\n",
       "    }\n",
       "\n",
       "    .dataframe tbody tr th {\n",
       "        vertical-align: top;\n",
       "    }\n",
       "\n",
       "    .dataframe thead th {\n",
       "        text-align: right;\n",
       "    }\n",
       "</style>\n",
       "<table border=\"1\" class=\"dataframe\">\n",
       "  <thead>\n",
       "    <tr style=\"text-align: right;\">\n",
       "      <th></th>\n",
       "      <th>api_number</th>\n",
       "      <th>operator_name</th>\n",
       "      <th>days</th>\n",
       "      <th>oil</th>\n",
       "      <th>water</th>\n",
       "      <th>gas</th>\n",
       "      <th>idle_arr</th>\n",
       "    </tr>\n",
       "  </thead>\n",
       "  <tbody>\n",
       "    <tr>\n",
       "      <th>0</th>\n",
       "      <td>2900001.0</td>\n",
       "      <td>Chevron U.S.A. Inc.</td>\n",
       "      <td>716.0</td>\n",
       "      <td>3975.0</td>\n",
       "      <td>4690.0</td>\n",
       "      <td>0.0</td>\n",
       "      <td>0</td>\n",
       "    </tr>\n",
       "    <tr>\n",
       "      <th>1</th>\n",
       "      <td>2900008.0</td>\n",
       "      <td>Vaquero Energy, Inc.</td>\n",
       "      <td>0.0</td>\n",
       "      <td>0.0</td>\n",
       "      <td>0.0</td>\n",
       "      <td>0.0</td>\n",
       "      <td>1</td>\n",
       "    </tr>\n",
       "    <tr>\n",
       "      <th>2</th>\n",
       "      <td>2900035.0</td>\n",
       "      <td>Maranatha Petroleum, Inc.</td>\n",
       "      <td>6.0</td>\n",
       "      <td>0.0</td>\n",
       "      <td>0.0</td>\n",
       "      <td>21.0</td>\n",
       "      <td>0</td>\n",
       "    </tr>\n",
       "    <tr>\n",
       "      <th>3</th>\n",
       "      <td>2900036.0</td>\n",
       "      <td>Naftex Operating Company</td>\n",
       "      <td>724.0</td>\n",
       "      <td>1110.0</td>\n",
       "      <td>6745.0</td>\n",
       "      <td>0.0</td>\n",
       "      <td>0</td>\n",
       "    </tr>\n",
       "    <tr>\n",
       "      <th>4</th>\n",
       "      <td>2900037.0</td>\n",
       "      <td>Grayson Service, Inc.</td>\n",
       "      <td>251.0</td>\n",
       "      <td>1699.0</td>\n",
       "      <td>36132.0</td>\n",
       "      <td>1783.0</td>\n",
       "      <td>0</td>\n",
       "    </tr>\n",
       "  </tbody>\n",
       "</table>\n",
       "</div>"
      ],
      "text/plain": [
       "   api_number              operator_name   days     oil    water     gas  \\\n",
       "0   2900001.0        Chevron U.S.A. Inc.  716.0  3975.0   4690.0     0.0   \n",
       "1   2900008.0       Vaquero Energy, Inc.    0.0     0.0      0.0     0.0   \n",
       "2   2900035.0  Maranatha Petroleum, Inc.    6.0     0.0      0.0    21.0   \n",
       "3   2900036.0   Naftex Operating Company  724.0  1110.0   6745.0     0.0   \n",
       "4   2900037.0      Grayson Service, Inc.  251.0  1699.0  36132.0  1783.0   \n",
       "\n",
       "   idle_arr  \n",
       "0         0  \n",
       "1         1  \n",
       "2         0  \n",
       "3         0  \n",
       "4         0  "
      ]
     },
     "execution_count": 76,
     "metadata": {},
     "output_type": "execute_result"
    }
   ],
   "source": [
    "op_sum.head()"
   ]
  },
  {
   "cell_type": "code",
   "execution_count": 78,
   "metadata": {},
   "outputs": [
    {
     "data": {
      "text/plain": [
       "1232"
      ]
     },
     "execution_count": 78,
     "metadata": {},
     "output_type": "execute_result"
    }
   ],
   "source": [
    "sum(op_sum['idle_arr'])"
   ]
  },
  {
   "cell_type": "code",
   "execution_count": 80,
   "metadata": {},
   "outputs": [
    {
     "data": {
      "text/html": [
       "<div>\n",
       "<style scoped>\n",
       "    .dataframe tbody tr th:only-of-type {\n",
       "        vertical-align: middle;\n",
       "    }\n",
       "\n",
       "    .dataframe tbody tr th {\n",
       "        vertical-align: top;\n",
       "    }\n",
       "\n",
       "    .dataframe thead th {\n",
       "        text-align: right;\n",
       "    }\n",
       "</style>\n",
       "<table border=\"1\" class=\"dataframe\">\n",
       "  <thead>\n",
       "    <tr style=\"text-align: right;\">\n",
       "      <th></th>\n",
       "      <th>api_number</th>\n",
       "      <th>operator_name</th>\n",
       "      <th>days</th>\n",
       "      <th>oil</th>\n",
       "      <th>water</th>\n",
       "      <th>gas</th>\n",
       "      <th>idle_arr</th>\n",
       "    </tr>\n",
       "  </thead>\n",
       "  <tbody>\n",
       "    <tr>\n",
       "      <th>0</th>\n",
       "      <td>2900001.0</td>\n",
       "      <td>Chevron U.S.A. Inc.</td>\n",
       "      <td>3271.0</td>\n",
       "      <td>28001.0</td>\n",
       "      <td>35607.0</td>\n",
       "      <td>0.0</td>\n",
       "      <td>0</td>\n",
       "    </tr>\n",
       "    <tr>\n",
       "      <th>1</th>\n",
       "      <td>2900008.0</td>\n",
       "      <td>Vaquero Energy, Inc.</td>\n",
       "      <td>881.0</td>\n",
       "      <td>65.0</td>\n",
       "      <td>817.0</td>\n",
       "      <td>30.0</td>\n",
       "      <td>0</td>\n",
       "    </tr>\n",
       "    <tr>\n",
       "      <th>2</th>\n",
       "      <td>2900035.0</td>\n",
       "      <td>Maranatha Petroleum, Inc.</td>\n",
       "      <td>1187.0</td>\n",
       "      <td>2582.0</td>\n",
       "      <td>17732.0</td>\n",
       "      <td>21.0</td>\n",
       "      <td>0</td>\n",
       "    </tr>\n",
       "    <tr>\n",
       "      <th>3</th>\n",
       "      <td>2900036.0</td>\n",
       "      <td>Naftex Operating Company</td>\n",
       "      <td>3177.0</td>\n",
       "      <td>7572.0</td>\n",
       "      <td>63750.0</td>\n",
       "      <td>0.0</td>\n",
       "      <td>0</td>\n",
       "    </tr>\n",
       "    <tr>\n",
       "      <th>4</th>\n",
       "      <td>2900037.0</td>\n",
       "      <td>Grayson Service, Inc.</td>\n",
       "      <td>2307.0</td>\n",
       "      <td>17894.0</td>\n",
       "      <td>396893.0</td>\n",
       "      <td>9793.0</td>\n",
       "      <td>0</td>\n",
       "    </tr>\n",
       "  </tbody>\n",
       "</table>\n",
       "</div>"
      ],
      "text/plain": [
       "   api_number              operator_name    days      oil     water     gas  \\\n",
       "0   2900001.0        Chevron U.S.A. Inc.  3271.0  28001.0   35607.0     0.0   \n",
       "1   2900008.0       Vaquero Energy, Inc.   881.0     65.0     817.0    30.0   \n",
       "2   2900035.0  Maranatha Petroleum, Inc.  1187.0   2582.0   17732.0    21.0   \n",
       "3   2900036.0   Naftex Operating Company  3177.0   7572.0   63750.0     0.0   \n",
       "4   2900037.0      Grayson Service, Inc.  2307.0  17894.0  396893.0  9793.0   \n",
       "\n",
       "   idle_arr  \n",
       "0         0  \n",
       "1         0  \n",
       "2         0  \n",
       "3         0  \n",
       "4         0  "
      ]
     },
     "execution_count": 80,
     "metadata": {},
     "output_type": "execute_result"
    }
   ],
   "source": [
    "op10_sum.head()"
   ]
  },
  {
   "cell_type": "code",
   "execution_count": 81,
   "metadata": {},
   "outputs": [
    {
     "data": {
      "text/plain": [
       "711"
      ]
     },
     "execution_count": 81,
     "metadata": {},
     "output_type": "execute_result"
    }
   ],
   "source": [
    "sum(op10_sum['idle_arr'])"
   ]
  },
  {
   "cell_type": "code",
   "execution_count": null,
   "metadata": {},
   "outputs": [],
   "source": []
  },
  {
   "cell_type": "code",
   "execution_count": 87,
   "metadata": {},
   "outputs": [
    {
     "data": {
      "text/plain": [
       "Ttest_1sampResult(statistic=22.68746482482607, pvalue=3.2904677610087195e-103)"
      ]
     },
     "execution_count": 87,
     "metadata": {},
     "output_type": "execute_result"
    }
   ],
   "source": [
    "stats.ttest_1samp(op_sum['idle_arr'], p)"
   ]
  },
  {
   "cell_type": "code",
   "execution_count": 88,
   "metadata": {},
   "outputs": [
    {
     "data": {
      "text/plain": [
       "Ttest_1sampResult(statistic=1.0361322513021851, pvalue=0.30024615305173064)"
      ]
     },
     "execution_count": 88,
     "metadata": {},
     "output_type": "execute_result"
    }
   ],
   "source": [
    "stats.ttest_1samp(op10_sum['idle_arr'], p)"
   ]
  },
  {
   "cell_type": "code",
   "execution_count": 90,
   "metadata": {},
   "outputs": [
    {
     "data": {
      "text/plain": [
       "1.6452338805043598e-103"
      ]
     },
     "execution_count": 90,
     "metadata": {},
     "output_type": "execute_result"
    }
   ],
   "source": [
    "3.2904677610087195e-103 / 2"
   ]
  },
  {
   "cell_type": "code",
   "execution_count": 91,
   "metadata": {},
   "outputs": [
    {
     "data": {
      "text/plain": [
       "0.15012307652586532"
      ]
     },
     "execution_count": 91,
     "metadata": {},
     "output_type": "execute_result"
    }
   ],
   "source": [
    "0.30024615305173064 / 2"
   ]
  },
  {
   "cell_type": "code",
   "execution_count": null,
   "metadata": {},
   "outputs": [],
   "source": []
  },
  {
   "cell_type": "code",
   "execution_count": 102,
   "metadata": {},
   "outputs": [],
   "source": [
    "mean, var, skew, kurt = binom.stats(samp_n, samp_p, moments='mvsk')"
   ]
  },
  {
   "cell_type": "code",
   "execution_count": 103,
   "metadata": {},
   "outputs": [
    {
     "name": "stdout",
     "output_type": "stream",
     "text": [
      "1232.0 586.6666666666666 -0.001966006723439932 -0.000846474953617811\n"
     ]
    }
   ],
   "source": [
    "print(mean, var, skew, kurt)"
   ]
  },
  {
   "cell_type": "code",
   "execution_count": 104,
   "metadata": {},
   "outputs": [],
   "source": [
    "mean, var, skew, kurt = binom.stats(samp10_n, samp10_p, moments='mvsk')"
   ]
  },
  {
   "cell_type": "code",
   "execution_count": 105,
   "metadata": {},
   "outputs": [
    {
     "name": "stdout",
     "output_type": "stream",
     "text": [
      "711.0 497.7899620413328 0.017939551906587428 -0.0005216984158134622\n"
     ]
    }
   ],
   "source": [
    "print(mean, var, skew, kurt)"
   ]
  },
  {
   "cell_type": "code",
   "execution_count": null,
   "metadata": {},
   "outputs": [],
   "source": []
  },
  {
   "cell_type": "code",
   "execution_count": 92,
   "metadata": {},
   "outputs": [
    {
     "data": {
      "text/html": [
       "<div>\n",
       "<style scoped>\n",
       "    .dataframe tbody tr th:only-of-type {\n",
       "        vertical-align: middle;\n",
       "    }\n",
       "\n",
       "    .dataframe tbody tr th {\n",
       "        vertical-align: top;\n",
       "    }\n",
       "\n",
       "    .dataframe thead th {\n",
       "        text-align: right;\n",
       "    }\n",
       "</style>\n",
       "<table border=\"1\" class=\"dataframe\">\n",
       "  <thead>\n",
       "    <tr style=\"text-align: right;\">\n",
       "      <th></th>\n",
       "      <th>operator_name</th>\n",
       "      <th>well_count</th>\n",
       "      <th>idle_count</th>\n",
       "      <th>idle_rate</th>\n",
       "    </tr>\n",
       "  </thead>\n",
       "  <tbody>\n",
       "    <tr>\n",
       "      <th>0</th>\n",
       "      <td>California Resources Elk Hills, LLC</td>\n",
       "      <td>534</td>\n",
       "      <td>446.0</td>\n",
       "      <td>0.835206</td>\n",
       "    </tr>\n",
       "    <tr>\n",
       "      <th>1</th>\n",
       "      <td>Chevron U.S.A. Inc.</td>\n",
       "      <td>443</td>\n",
       "      <td>175.0</td>\n",
       "      <td>0.395034</td>\n",
       "    </tr>\n",
       "    <tr>\n",
       "      <th>2</th>\n",
       "      <td>California Resources Production Corporation</td>\n",
       "      <td>224</td>\n",
       "      <td>129.0</td>\n",
       "      <td>0.575893</td>\n",
       "    </tr>\n",
       "    <tr>\n",
       "      <th>3</th>\n",
       "      <td>Crimson Resource Management Corp.</td>\n",
       "      <td>142</td>\n",
       "      <td>82.0</td>\n",
       "      <td>0.577465</td>\n",
       "    </tr>\n",
       "    <tr>\n",
       "      <th>6</th>\n",
       "      <td>E &amp; B Natural Resources Management Corporation</td>\n",
       "      <td>93</td>\n",
       "      <td>49.0</td>\n",
       "      <td>0.526882</td>\n",
       "    </tr>\n",
       "    <tr>\n",
       "      <th>4</th>\n",
       "      <td>Vaquero Energy, Inc.</td>\n",
       "      <td>101</td>\n",
       "      <td>35.0</td>\n",
       "      <td>0.346535</td>\n",
       "    </tr>\n",
       "    <tr>\n",
       "      <th>5</th>\n",
       "      <td>Bellaire Oil Company</td>\n",
       "      <td>99</td>\n",
       "      <td>35.0</td>\n",
       "      <td>0.353535</td>\n",
       "    </tr>\n",
       "    <tr>\n",
       "      <th>12</th>\n",
       "      <td>Berry Petroleum Company, LLC</td>\n",
       "      <td>31</td>\n",
       "      <td>24.0</td>\n",
       "      <td>0.774194</td>\n",
       "    </tr>\n",
       "    <tr>\n",
       "      <th>14</th>\n",
       "      <td>Holmes Western Oil Corporation</td>\n",
       "      <td>26</td>\n",
       "      <td>22.0</td>\n",
       "      <td>0.846154</td>\n",
       "    </tr>\n",
       "    <tr>\n",
       "      <th>19</th>\n",
       "      <td>Alon Bakersfield Property Inc.</td>\n",
       "      <td>21</td>\n",
       "      <td>20.0</td>\n",
       "      <td>0.952381</td>\n",
       "    </tr>\n",
       "  </tbody>\n",
       "</table>\n",
       "</div>"
      ],
      "text/plain": [
       "                                     operator_name  well_count  idle_count  \\\n",
       "0              California Resources Elk Hills, LLC         534       446.0   \n",
       "1                              Chevron U.S.A. Inc.         443       175.0   \n",
       "2      California Resources Production Corporation         224       129.0   \n",
       "3                Crimson Resource Management Corp.         142        82.0   \n",
       "6   E & B Natural Resources Management Corporation          93        49.0   \n",
       "4                             Vaquero Energy, Inc.         101        35.0   \n",
       "5                             Bellaire Oil Company          99        35.0   \n",
       "12                    Berry Petroleum Company, LLC          31        24.0   \n",
       "14                  Holmes Western Oil Corporation          26        22.0   \n",
       "19                  Alon Bakersfield Property Inc.          21        20.0   \n",
       "\n",
       "    idle_rate  \n",
       "0    0.835206  \n",
       "1    0.395034  \n",
       "2    0.575893  \n",
       "3    0.577465  \n",
       "6    0.526882  \n",
       "4    0.346535  \n",
       "5    0.353535  \n",
       "12   0.774194  \n",
       "14   0.846154  \n",
       "19   0.952381  "
      ]
     },
     "execution_count": 92,
     "metadata": {},
     "output_type": "execute_result"
    }
   ],
   "source": [
    "df.sort_values(by='idle_count', ascending=False).head(10)"
   ]
  },
  {
   "cell_type": "code",
   "execution_count": 93,
   "metadata": {},
   "outputs": [
    {
     "data": {
      "text/html": [
       "<div>\n",
       "<style scoped>\n",
       "    .dataframe tbody tr th:only-of-type {\n",
       "        vertical-align: middle;\n",
       "    }\n",
       "\n",
       "    .dataframe tbody tr th {\n",
       "        vertical-align: top;\n",
       "    }\n",
       "\n",
       "    .dataframe thead th {\n",
       "        text-align: right;\n",
       "    }\n",
       "</style>\n",
       "<table border=\"1\" class=\"dataframe\">\n",
       "  <thead>\n",
       "    <tr style=\"text-align: right;\">\n",
       "      <th></th>\n",
       "      <th>operator_name</th>\n",
       "      <th>well_count</th>\n",
       "      <th>idle_count</th>\n",
       "      <th>idle_rate</th>\n",
       "    </tr>\n",
       "  </thead>\n",
       "  <tbody>\n",
       "    <tr>\n",
       "      <th>0</th>\n",
       "      <td>California Resources Elk Hills, LLC</td>\n",
       "      <td>535</td>\n",
       "      <td>280.0</td>\n",
       "      <td>0.523364</td>\n",
       "    </tr>\n",
       "    <tr>\n",
       "      <th>1</th>\n",
       "      <td>Chevron U.S.A. Inc.</td>\n",
       "      <td>446</td>\n",
       "      <td>105.0</td>\n",
       "      <td>0.235426</td>\n",
       "    </tr>\n",
       "    <tr>\n",
       "      <th>2</th>\n",
       "      <td>California Resources Production Corporation</td>\n",
       "      <td>225</td>\n",
       "      <td>69.0</td>\n",
       "      <td>0.306667</td>\n",
       "    </tr>\n",
       "    <tr>\n",
       "      <th>3</th>\n",
       "      <td>Crimson Resource Management Corp.</td>\n",
       "      <td>142</td>\n",
       "      <td>65.0</td>\n",
       "      <td>0.457746</td>\n",
       "    </tr>\n",
       "    <tr>\n",
       "      <th>4</th>\n",
       "      <td>Vaquero Energy, Inc.</td>\n",
       "      <td>101</td>\n",
       "      <td>21.0</td>\n",
       "      <td>0.207921</td>\n",
       "    </tr>\n",
       "    <tr>\n",
       "      <th>11</th>\n",
       "      <td>Berry Petroleum Company, LLC</td>\n",
       "      <td>32</td>\n",
       "      <td>20.0</td>\n",
       "      <td>0.625000</td>\n",
       "    </tr>\n",
       "    <tr>\n",
       "      <th>6</th>\n",
       "      <td>E &amp; B Natural Resources Management Corporation</td>\n",
       "      <td>93</td>\n",
       "      <td>20.0</td>\n",
       "      <td>0.215054</td>\n",
       "    </tr>\n",
       "    <tr>\n",
       "      <th>5</th>\n",
       "      <td>Bellaire Oil Company</td>\n",
       "      <td>99</td>\n",
       "      <td>18.0</td>\n",
       "      <td>0.181818</td>\n",
       "    </tr>\n",
       "    <tr>\n",
       "      <th>17</th>\n",
       "      <td>Citadel Exploration, Inc.</td>\n",
       "      <td>22</td>\n",
       "      <td>13.0</td>\n",
       "      <td>0.590909</td>\n",
       "    </tr>\n",
       "    <tr>\n",
       "      <th>15</th>\n",
       "      <td>Foothill Energy LLC</td>\n",
       "      <td>24</td>\n",
       "      <td>12.0</td>\n",
       "      <td>0.500000</td>\n",
       "    </tr>\n",
       "  </tbody>\n",
       "</table>\n",
       "</div>"
      ],
      "text/plain": [
       "                                     operator_name  well_count  idle_count  \\\n",
       "0              California Resources Elk Hills, LLC         535       280.0   \n",
       "1                              Chevron U.S.A. Inc.         446       105.0   \n",
       "2      California Resources Production Corporation         225        69.0   \n",
       "3                Crimson Resource Management Corp.         142        65.0   \n",
       "4                             Vaquero Energy, Inc.         101        21.0   \n",
       "11                    Berry Petroleum Company, LLC          32        20.0   \n",
       "6   E & B Natural Resources Management Corporation          93        20.0   \n",
       "5                             Bellaire Oil Company          99        18.0   \n",
       "17                       Citadel Exploration, Inc.          22        13.0   \n",
       "15                             Foothill Energy LLC          24        12.0   \n",
       "\n",
       "    idle_rate  \n",
       "0    0.523364  \n",
       "1    0.235426  \n",
       "2    0.306667  \n",
       "3    0.457746  \n",
       "4    0.207921  \n",
       "11   0.625000  \n",
       "6    0.215054  \n",
       "5    0.181818  \n",
       "17   0.590909  \n",
       "15   0.500000  "
      ]
     },
     "execution_count": 93,
     "metadata": {},
     "output_type": "execute_result"
    }
   ],
   "source": [
    "df10.sort_values(by='idle_count', ascending=False).head(10)"
   ]
  },
  {
   "cell_type": "code",
   "execution_count": 94,
   "metadata": {},
   "outputs": [],
   "source": [
    "x = df['well_count']\n",
    "y = df['idle_rate']\n",
    "z = df['idle_count']\n",
    "x2 = df10['well_count']\n",
    "y2 = df10['idle_rate']\n",
    "z2 = df10['idle_count']"
   ]
  },
  {
   "cell_type": "code",
   "execution_count": 95,
   "metadata": {},
   "outputs": [
    {
     "data": {
      "image/png": "[encoded data removed]",
      "text/plain": [
       "<Figure size 1440x720 with 1 Axes>"
      ]
     },
     "metadata": {
      "needs_background": "light"
     },
     "output_type": "display_data"
    }
   ],
   "source": [
    "plt.figure(figsize=(20,10))\n",
    "plt.scatter(x, y, s=(z+1)*30, alpha=.4, edgecolors=\"grey\", linewidth=2)\n",
    "plt.xlabel(\"Well Count\")\n",
    "plt.ylabel(\"Idle Rate (idle_count / well_count)\")\n",
    "plt.title('California Operators in Sample')\n",
    "plt.show()\n"
   ]
  },
  {
   "cell_type": "code",
   "execution_count": 96,
   "metadata": {},
   "outputs": [
    {
     "data": {
      "image/png": "[encoded data removed]",
      "text/plain": [
       "<Figure size 1440x720 with 1 Axes>"
      ]
     },
     "metadata": {
      "needs_background": "light"
     },
     "output_type": "display_data"
    }
   ],
   "source": [
    "fig, ax = plt.subplots(figsize=(20,10))\n",
    "\n",
    "ax.scatter(x2, y2, s=(z2+1)*30, c='red', alpha=.4, edgecolors=\"grey\", linewidth=2)\n",
    "ax.scatter(x, y, s=(z+1)*30, alpha=.4, edgecolors=\"grey\", linewidth=2)\n",
    "plt.xlabel(\"Well Count\")\n",
    "plt.ylabel(\"Idle Rate (idle_count / well_count)\")\n",
    "plt.title('California Operators in Sample2')\n",
    "plt.show()"
   ]
  },
  {
   "cell_type": "code",
   "execution_count": null,
   "metadata": {},
   "outputs": [],
   "source": []
  },
  {
   "cell_type": "code",
   "execution_count": null,
   "metadata": {},
   "outputs": [],
   "source": []
  },
  {
   "cell_type": "code",
   "execution_count": 101,
   "metadata": {},
   "outputs": [
    {
     "data": {
      "image/png": "[encoded data removed]",
      "text/plain": [
       "<Figure size 1440x720 with 1 Axes>"
      ]
     },
     "metadata": {
      "needs_background": "light"
     },
     "output_type": "display_data"
    }
   ],
   "source": [
    "fig, ax = plt.subplots(figsize=(20,10))\n",
    "\n",
    "xi = np.arange(binom.ppf(0.01, n, p), binom.ppf(0.99, n, samp10_p))\n",
    "ax.plot(xi, binom.pmf(xi, n, p), 'rd', ms=1, label='population pmf')\n",
    "ax.plot(xi, binom.pmf(xi, n, samp10_p), 'bo', ms=1, label='10year pmf')\n",
    "ax.vlines(xi, 0, binom.pmf(xi, n, p), lw=1, alpha=.2)\n",
    "ax.vlines(xi, 0, binom.pmf(xi, n, samp10_p), lw=1, alpha=0.3)\n",
    "#plt.axvline(x=286.02813261185224+30000)\n",
    "#ax.hist(y, density=True, bins=60, alpha=.3)\n",
    "#ax.hist(r, density=True, bins=60, alpha=.3)\n",
    "plt.xlabel(\"Well Count\")\n",
    "plt.ylabel(\"Probability\")\n",
    "ax.legend()\n",
    "plt.show()\n"
   ]
  },
  {
   "cell_type": "code",
   "execution_count": null,
   "metadata": {},
   "outputs": [],
   "source": []
  },
  {
   "cell_type": "code",
   "execution_count": null,
   "metadata": {},
   "outputs": [],
   "source": [
    "r = stats.binom.rvs(n,samp10_p,size=103450)"
   ]
  }
 ],
 "metadata": {
  "kernelspec": {
   "display_name": "Python 3",
   "language": "python",
   "name": "python3"
  },
  "language_info": {
   "codemirror_mode": {
    "name": "ipython",
    "version": 3
   },
   "file_extension": ".py",
   "mimetype": "text/x-python",
   "name": "python",
   "nbconvert_exporter": "python",
   "pygments_lexer": "ipython3",
   "version": "3.7.1"
  }
 },
 "nbformat": 4,
 "nbformat_minor": 2
}
