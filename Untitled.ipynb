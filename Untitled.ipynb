{
 "cells": [
  {
   "cell_type": "code",
   "execution_count": 1,
   "metadata": {},
   "outputs": [],
   "source": [
    "import psycopg2\n",
    "import pandas as pd\n",
    "import sys\n",
    "from datetime import datetime\n",
    "import pandas.io.sql as psql"
   ]
  },
  {
   "cell_type": "code",
   "execution_count": 9,
   "metadata": {},
   "outputs": [],
   "source": [
    "try:\n",
    "    conn = psycopg2.connect(dbname='welldata', user='taylorphillips', host='localhost')\n",
    "except:\n",
    "    print(\"I am unable to connect to the database\")\n",
    "cur = conn.cursor()"
   ]
  },
  {
   "cell_type": "code",
   "execution_count": 10,
   "metadata": {},
   "outputs": [],
   "source": [
    "try:\n",
    "    cur.execute('DROP TABLE IF EXISTS r;')\n",
    "    cur.execute(\n",
    "    '''\n",
    "    CREATE TABLE r AS\n",
    "    SELECT api_number, oil_produced_bbl, water_produced_bbl, gas_produced_mcf, days_well_produced, reported_date, well_type\n",
    "    FROM production\n",
    "    WHERE reported_date > date '2019-02-01' - interval '3 years';\n",
    "    '''\n",
    ")\n",
    "except:\n",
    "    print(\"Nope didn't work\")"
   ]
  },
  {
   "cell_type": "code",
   "execution_count": 11,
   "metadata": {},
   "outputs": [],
   "source": [
    "try:\n",
    "    cur.execute('DROP TABLE IF EXISTS ragg;')\n",
    "    cur.execute(\n",
    "    '''\n",
    "    CREATE TABLE ragg AS\n",
    "    SELECT api_number, well_type, SUM(oil_produced_bbl) as oil, \n",
    "    SUM(water_produced_bbl) as water, \n",
    "    SUM(gas_produced_mcf) as gas,\n",
    "    SUM(days_well_produced) as dval \n",
    "    FROM r\n",
    "    GROUP BY api_number, well_type;\n",
    "    '''\n",
    ")\n",
    "except:\n",
    "    print(\"Nope didn't work\")"
   ]
  },
  {
   "cell_type": "code",
   "execution_count": 12,
   "metadata": {},
   "outputs": [],
   "source": [
    "try:\n",
    "    cur.execute('DROP TABLE IF EXISTS op;')\n",
    "    cur.execute(\n",
    "    '''CREATE TABLE op AS\n",
    "    SELECT ragg.api_number, summary.operator_name, ragg.well_type, ragg.oil, ragg.water, ragg.gas, ragg.dval\n",
    "    FROM ragg\n",
    "    JOIN summary\n",
    "    ON ragg.api_number = summary.\"api_#\";\n",
    "    '''\n",
    ")\n",
    "    dataframe = psql.read_sql('''SELECT ragg.api_number, summary.operator_name, ragg.well_type, ragg.oil, ragg.water, ragg.gas, ragg.dval\n",
    "                            FROM ragg\n",
    "                            JOIN summary\n",
    "                            ON ragg.api_number = summary.\"api_#\"''', conn)\n",
    "\n",
    "\n",
    "\n",
    "except:\n",
    "    print(\"Nope didn't work\")"
   ]
  },
  {
   "cell_type": "code",
   "execution_count": 13,
   "metadata": {},
   "outputs": [
    {
     "name": "stdout",
     "output_type": "stream",
     "text": [
      "<class 'pandas.core.frame.DataFrame'>\n",
      "RangeIndex: 1856 entries, 0 to 1855\n",
      "Data columns (total 7 columns):\n",
      "api_number       1856 non-null float64\n",
      "operator_name    1856 non-null object\n",
      "well_type        1856 non-null object\n",
      "oil              1846 non-null float64\n",
      "water            1846 non-null float64\n",
      "gas              1837 non-null float64\n",
      "dval             1853 non-null float64\n",
      "dtypes: float64(5), object(2)\n",
      "memory usage: 101.6+ KB\n"
     ]
    }
   ],
   "source": [
    "dataframe.info()"
   ]
  },
  {
   "cell_type": "code",
   "execution_count": null,
   "metadata": {},
   "outputs": [],
   "source": []
  }
 ],
 "metadata": {
  "kernelspec": {
   "display_name": "Python 3",
   "language": "python",
   "name": "python3"
  },
  "language_info": {
   "codemirror_mode": {
    "name": "ipython",
    "version": 3
   },
   "file_extension": ".py",
   "mimetype": "text/x-python",
   "name": "python",
   "nbconvert_exporter": "python",
   "pygments_lexer": "ipython3",
   "version": "3.7.1"
  }
 },
 "nbformat": 4,
 "nbformat_minor": 2
}
