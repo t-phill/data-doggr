{
 "cells": [
  {
   "cell_type": "code",
   "execution_count": 153,
   "metadata": {},
   "outputs": [],
   "source": [
    "import pandas as pd \n",
    "import numpy as np \n",
    "import glob\n",
    "\n",
    "import psycopg2\n",
    "import sys\n",
    "from datetime import datetime\n",
    "import pandas.io.sql as psql\n",
    "\n",
    "from db_parse import * \n",
    "from load_post import *\n",
    "from pg import *\n",
    "\n",
    "import matplotlib.pyplot as plt\n",
    "import seaborn as sns\n",
    "\n",
    "from scipy import stats\n",
    "%matplotlib inline\n",
    "from scipy.stats import binom\n"
   ]
  },
  {
   "cell_type": "code",
   "execution_count": 4,
   "metadata": {},
   "outputs": [
    {
     "name": "stdout",
     "output_type": "stream",
     "text": [
      "<class 'pandas.core.frame.DataFrame'>\n",
      "RangeIndex: 103405 entries, 0 to 103404\n",
      "Data columns (total 28 columns):\n",
      "district_num               103405 non-null int64\n",
      "formatted_api_num          103405 non-null object\n",
      "operator_name              103405 non-null object\n",
      "operator_code              103405 non-null object\n",
      "field_name                 103405 non-null object\n",
      "field_code                 103405 non-null int64\n",
      "api_num                    103405 non-null int64\n",
      "lease_name                 69868 non-null object\n",
      "well_num                   103404 non-null object\n",
      "well_status                103405 non-null object\n",
      "pool_welltypes             103405 non-null object\n",
      "section                    103405 non-null int64\n",
      "township                   103405 non-null object\n",
      "range                      103405 non-null object\n",
      "base_meridian              103405 non-null object\n",
      "area_code                  103405 non-null int64\n",
      "area_name                  103405 non-null object\n",
      "latitude                   103405 non-null float64\n",
      "longitude                  103405 non-null float64\n",
      "gissourcecode              103405 non-null object\n",
      "datumcode                  103405 non-null object\n",
      "blmwell                    103405 non-null object\n",
      "dryhole                    103405 non-null object\n",
      "directional                103405 non-null object\n",
      "hydraulically_fractured    103405 non-null object\n",
      "spud_date                  34136 non-null object\n",
      "completion_date            29990 non-null object\n",
      "abandoned_date             195 non-null object\n",
      "dtypes: float64(2), int64(5), object(21)\n",
      "memory usage: 22.1+ MB\n"
     ]
    }
   ],
   "source": [
    "sum_parse().info()"
   ]
  },
  {
   "cell_type": "code",
   "execution_count": 5,
   "metadata": {},
   "outputs": [
    {
     "name": "stdout",
     "output_type": "stream",
     "text": [
      "<class 'pandas.core.frame.DataFrame'>\n",
      "Int64Index: 1073649 entries, 1 to 535\n",
      "Data columns (total 17 columns):\n",
      "api_number             1073649 non-null int64\n",
      "production_date        1073649 non-null object\n",
      "oil_produced_bbl       1034035 non-null float64\n",
      "water_produced_bbl     1032311 non-null float64\n",
      "gas_produced_mcf       997721 non-null float64\n",
      "days_well_produced     1035258 non-null float64\n",
      "gravity_of_oil         1015204 non-null float64\n",
      "casing_pressure        773984 non-null float64\n",
      "tubing_pressure        781282 non-null float64\n",
      "btu                    452908 non-null float64\n",
      "method_of_operation    943065 non-null object\n",
      "water_disposition      947039 non-null float64\n",
      "pwt_status             1073649 non-null object\n",
      "well_type              1073649 non-null object\n",
      "status                 977245 non-null float64\n",
      "pool_code              1073649 non-null float64\n",
      "reported_date          1073649 non-null datetime64[ns]\n",
      "dtypes: datetime64[ns](1), float64(11), int64(1), object(4)\n",
      "memory usage: 147.4+ MB\n"
     ]
    }
   ],
   "source": [
    "parse_excel('/Users/taylorphillips/Downloads/*.xlsx').info()"
   ]
  },
  {
   "cell_type": "code",
   "execution_count": null,
   "metadata": {},
   "outputs": [],
   "source": []
  },
  {
   "cell_type": "code",
   "execution_count": 10,
   "metadata": {},
   "outputs": [
    {
     "name": "stdout",
     "output_type": "stream",
     "text": [
      "Connecting to Database\n",
      "Truncated summary\n",
      "Loaded data into summary\n",
      "DB connection closed.\n",
      "Connecting to Database\n",
      "Truncated production\n",
      "Loaded data into production\n",
      "DB connection closed.\n"
     ]
    }
   ],
   "source": [
    "run load_post.py"
   ]
  },
  {
   "cell_type": "code",
   "execution_count": 69,
   "metadata": {},
   "outputs": [],
   "source": [
    "run pg.py"
   ]
  },
  {
   "cell_type": "code",
   "execution_count": null,
   "metadata": {},
   "outputs": [],
   "source": []
  },
  {
   "cell_type": "code",
   "execution_count": null,
   "metadata": {},
   "outputs": [],
   "source": []
  },
  {
   "cell_type": "code",
   "execution_count": 71,
   "metadata": {},
   "outputs": [],
   "source": [
    "df = op_wells.merge(idle_wells, on='operator_name', how='left')\n",
    "df = df.fillna(0)"
   ]
  },
  {
   "cell_type": "code",
   "execution_count": 72,
   "metadata": {},
   "outputs": [
    {
     "data": {
      "text/plain": [
       "operator_name    California Resources Elk Hills, LLCChevron U.S...\n",
       "well_count                                                    2220\n",
       "idle_count                                                    1156\n",
       "dtype: object"
      ]
     },
     "execution_count": 72,
     "metadata": {},
     "output_type": "execute_result"
    }
   ],
   "source": [
    "df.sum()"
   ]
  },
  {
   "cell_type": "code",
   "execution_count": 73,
   "metadata": {},
   "outputs": [
    {
     "data": {
      "text/plain": [
       "0.5207207207207207"
      ]
     },
     "execution_count": 73,
     "metadata": {},
     "output_type": "execute_result"
    }
   ],
   "source": [
    "samp_p = 1156 / 2220\n",
    "samp_p"
   ]
  },
  {
   "cell_type": "code",
   "execution_count": 74,
   "metadata": {},
   "outputs": [],
   "source": [
    "df['idle_rate'] = df['idle_count']/df['well_count']"
   ]
  },
  {
   "cell_type": "code",
   "execution_count": 141,
   "metadata": {},
   "outputs": [
    {
     "data": {
      "text/html": [
       "<div>\n",
       "<style scoped>\n",
       "    .dataframe tbody tr th:only-of-type {\n",
       "        vertical-align: middle;\n",
       "    }\n",
       "\n",
       "    .dataframe tbody tr th {\n",
       "        vertical-align: top;\n",
       "    }\n",
       "\n",
       "    .dataframe thead th {\n",
       "        text-align: right;\n",
       "    }\n",
       "</style>\n",
       "<table border=\"1\" class=\"dataframe\">\n",
       "  <thead>\n",
       "    <tr style=\"text-align: right;\">\n",
       "      <th></th>\n",
       "      <th>operator_name</th>\n",
       "      <th>well_count</th>\n",
       "      <th>idle_count</th>\n",
       "      <th>idle_rate</th>\n",
       "    </tr>\n",
       "  </thead>\n",
       "  <tbody>\n",
       "    <tr>\n",
       "      <th>0</th>\n",
       "      <td>California Resources Elk Hills, LLC</td>\n",
       "      <td>534</td>\n",
       "      <td>446.0</td>\n",
       "      <td>0.835206</td>\n",
       "    </tr>\n",
       "    <tr>\n",
       "      <th>1</th>\n",
       "      <td>Chevron U.S.A. Inc.</td>\n",
       "      <td>439</td>\n",
       "      <td>168.0</td>\n",
       "      <td>0.382688</td>\n",
       "    </tr>\n",
       "    <tr>\n",
       "      <th>2</th>\n",
       "      <td>California Resources Production Corporation</td>\n",
       "      <td>156</td>\n",
       "      <td>74.0</td>\n",
       "      <td>0.474359</td>\n",
       "    </tr>\n",
       "    <tr>\n",
       "      <th>3</th>\n",
       "      <td>Crimson Resource Management Corp.</td>\n",
       "      <td>142</td>\n",
       "      <td>82.0</td>\n",
       "      <td>0.577465</td>\n",
       "    </tr>\n",
       "    <tr>\n",
       "      <th>4</th>\n",
       "      <td>Bellaire Oil Company</td>\n",
       "      <td>99</td>\n",
       "      <td>35.0</td>\n",
       "      <td>0.353535</td>\n",
       "    </tr>\n",
       "    <tr>\n",
       "      <th>5</th>\n",
       "      <td>Vaquero Energy, Inc.</td>\n",
       "      <td>99</td>\n",
       "      <td>35.0</td>\n",
       "      <td>0.353535</td>\n",
       "    </tr>\n",
       "    <tr>\n",
       "      <th>6</th>\n",
       "      <td>Sequoia Exploration, Inc.</td>\n",
       "      <td>75</td>\n",
       "      <td>16.0</td>\n",
       "      <td>0.213333</td>\n",
       "    </tr>\n",
       "    <tr>\n",
       "      <th>7</th>\n",
       "      <td>E &amp; B Natural Resources Management Corporation</td>\n",
       "      <td>68</td>\n",
       "      <td>41.0</td>\n",
       "      <td>0.602941</td>\n",
       "    </tr>\n",
       "    <tr>\n",
       "      <th>8</th>\n",
       "      <td>Longbow, LLC</td>\n",
       "      <td>49</td>\n",
       "      <td>7.0</td>\n",
       "      <td>0.142857</td>\n",
       "    </tr>\n",
       "    <tr>\n",
       "      <th>9</th>\n",
       "      <td>San Joaquin Facilities Management, Inc.</td>\n",
       "      <td>36</td>\n",
       "      <td>14.0</td>\n",
       "      <td>0.388889</td>\n",
       "    </tr>\n",
       "  </tbody>\n",
       "</table>\n",
       "</div>"
      ],
      "text/plain": [
       "                                    operator_name  well_count  idle_count  \\\n",
       "0             California Resources Elk Hills, LLC         534       446.0   \n",
       "1                             Chevron U.S.A. Inc.         439       168.0   \n",
       "2     California Resources Production Corporation         156        74.0   \n",
       "3               Crimson Resource Management Corp.         142        82.0   \n",
       "4                            Bellaire Oil Company          99        35.0   \n",
       "5                            Vaquero Energy, Inc.          99        35.0   \n",
       "6                       Sequoia Exploration, Inc.          75        16.0   \n",
       "7  E & B Natural Resources Management Corporation          68        41.0   \n",
       "8                                    Longbow, LLC          49         7.0   \n",
       "9         San Joaquin Facilities Management, Inc.          36        14.0   \n",
       "\n",
       "   idle_rate  \n",
       "0   0.835206  \n",
       "1   0.382688  \n",
       "2   0.474359  \n",
       "3   0.577465  \n",
       "4   0.353535  \n",
       "5   0.353535  \n",
       "6   0.213333  \n",
       "7   0.602941  \n",
       "8   0.142857  \n",
       "9   0.388889  "
      ]
     },
     "execution_count": 141,
     "metadata": {},
     "output_type": "execute_result"
    }
   ],
   "source": [
    "df.head(10)"
   ]
  },
  {
   "cell_type": "code",
   "execution_count": 142,
   "metadata": {},
   "outputs": [
    {
     "data": {
      "text/html": [
       "<div>\n",
       "<style scoped>\n",
       "    .dataframe tbody tr th:only-of-type {\n",
       "        vertical-align: middle;\n",
       "    }\n",
       "\n",
       "    .dataframe tbody tr th {\n",
       "        vertical-align: top;\n",
       "    }\n",
       "\n",
       "    .dataframe thead th {\n",
       "        text-align: right;\n",
       "    }\n",
       "</style>\n",
       "<table border=\"1\" class=\"dataframe\">\n",
       "  <thead>\n",
       "    <tr style=\"text-align: right;\">\n",
       "      <th></th>\n",
       "      <th>operator_name</th>\n",
       "      <th>well_count</th>\n",
       "      <th>idle_count</th>\n",
       "      <th>idle_rate</th>\n",
       "    </tr>\n",
       "  </thead>\n",
       "  <tbody>\n",
       "    <tr>\n",
       "      <th>0</th>\n",
       "      <td>California Resources Elk Hills, LLC</td>\n",
       "      <td>534</td>\n",
       "      <td>446.0</td>\n",
       "      <td>0.835206</td>\n",
       "    </tr>\n",
       "    <tr>\n",
       "      <th>1</th>\n",
       "      <td>Chevron U.S.A. Inc.</td>\n",
       "      <td>439</td>\n",
       "      <td>168.0</td>\n",
       "      <td>0.382688</td>\n",
       "    </tr>\n",
       "    <tr>\n",
       "      <th>3</th>\n",
       "      <td>Crimson Resource Management Corp.</td>\n",
       "      <td>142</td>\n",
       "      <td>82.0</td>\n",
       "      <td>0.577465</td>\n",
       "    </tr>\n",
       "    <tr>\n",
       "      <th>2</th>\n",
       "      <td>California Resources Production Corporation</td>\n",
       "      <td>156</td>\n",
       "      <td>74.0</td>\n",
       "      <td>0.474359</td>\n",
       "    </tr>\n",
       "    <tr>\n",
       "      <th>7</th>\n",
       "      <td>E &amp; B Natural Resources Management Corporation</td>\n",
       "      <td>68</td>\n",
       "      <td>41.0</td>\n",
       "      <td>0.602941</td>\n",
       "    </tr>\n",
       "    <tr>\n",
       "      <th>4</th>\n",
       "      <td>Bellaire Oil Company</td>\n",
       "      <td>99</td>\n",
       "      <td>35.0</td>\n",
       "      <td>0.353535</td>\n",
       "    </tr>\n",
       "    <tr>\n",
       "      <th>5</th>\n",
       "      <td>Vaquero Energy, Inc.</td>\n",
       "      <td>99</td>\n",
       "      <td>35.0</td>\n",
       "      <td>0.353535</td>\n",
       "    </tr>\n",
       "    <tr>\n",
       "      <th>11</th>\n",
       "      <td>Berry Petroleum Company, LLC</td>\n",
       "      <td>31</td>\n",
       "      <td>24.0</td>\n",
       "      <td>0.774194</td>\n",
       "    </tr>\n",
       "    <tr>\n",
       "      <th>13</th>\n",
       "      <td>Holmes Western Oil Corporation</td>\n",
       "      <td>26</td>\n",
       "      <td>22.0</td>\n",
       "      <td>0.846154</td>\n",
       "    </tr>\n",
       "    <tr>\n",
       "      <th>19</th>\n",
       "      <td>Alon Bakersfield Property Inc.</td>\n",
       "      <td>21</td>\n",
       "      <td>20.0</td>\n",
       "      <td>0.952381</td>\n",
       "    </tr>\n",
       "  </tbody>\n",
       "</table>\n",
       "</div>"
      ],
      "text/plain": [
       "                                     operator_name  well_count  idle_count  \\\n",
       "0              California Resources Elk Hills, LLC         534       446.0   \n",
       "1                              Chevron U.S.A. Inc.         439       168.0   \n",
       "3                Crimson Resource Management Corp.         142        82.0   \n",
       "2      California Resources Production Corporation         156        74.0   \n",
       "7   E & B Natural Resources Management Corporation          68        41.0   \n",
       "4                             Bellaire Oil Company          99        35.0   \n",
       "5                             Vaquero Energy, Inc.          99        35.0   \n",
       "11                    Berry Petroleum Company, LLC          31        24.0   \n",
       "13                  Holmes Western Oil Corporation          26        22.0   \n",
       "19                  Alon Bakersfield Property Inc.          21        20.0   \n",
       "\n",
       "    idle_rate  \n",
       "0    0.835206  \n",
       "1    0.382688  \n",
       "3    0.577465  \n",
       "2    0.474359  \n",
       "7    0.602941  \n",
       "4    0.353535  \n",
       "5    0.353535  \n",
       "11   0.774194  \n",
       "13   0.846154  \n",
       "19   0.952381  "
      ]
     },
     "execution_count": 142,
     "metadata": {},
     "output_type": "execute_result"
    }
   ],
   "source": [
    "df.sort_values(by='idle_count', ascending=False).head(10)"
   ]
  },
  {
   "cell_type": "code",
   "execution_count": 143,
   "metadata": {},
   "outputs": [
    {
     "data": {
      "text/html": [
       "<div>\n",
       "<style scoped>\n",
       "    .dataframe tbody tr th:only-of-type {\n",
       "        vertical-align: middle;\n",
       "    }\n",
       "\n",
       "    .dataframe tbody tr th {\n",
       "        vertical-align: top;\n",
       "    }\n",
       "\n",
       "    .dataframe thead th {\n",
       "        text-align: right;\n",
       "    }\n",
       "</style>\n",
       "<table border=\"1\" class=\"dataframe\">\n",
       "  <thead>\n",
       "    <tr style=\"text-align: right;\">\n",
       "      <th></th>\n",
       "      <th>operator_name</th>\n",
       "      <th>well_count</th>\n",
       "      <th>idle_count</th>\n",
       "      <th>idle_rate</th>\n",
       "    </tr>\n",
       "  </thead>\n",
       "  <tbody>\n",
       "    <tr>\n",
       "      <th>72</th>\n",
       "      <td>CMO, Inc.</td>\n",
       "      <td>1</td>\n",
       "      <td>1.0</td>\n",
       "      <td>1.0</td>\n",
       "    </tr>\n",
       "    <tr>\n",
       "      <th>70</th>\n",
       "      <td>Strata-X, Inc.</td>\n",
       "      <td>1</td>\n",
       "      <td>1.0</td>\n",
       "      <td>1.0</td>\n",
       "    </tr>\n",
       "    <tr>\n",
       "      <th>67</th>\n",
       "      <td>Andrew L. Newkirk</td>\n",
       "      <td>1</td>\n",
       "      <td>1.0</td>\n",
       "      <td>1.0</td>\n",
       "    </tr>\n",
       "    <tr>\n",
       "      <th>66</th>\n",
       "      <td>Valid Energy Company</td>\n",
       "      <td>1</td>\n",
       "      <td>1.0</td>\n",
       "      <td>1.0</td>\n",
       "    </tr>\n",
       "    <tr>\n",
       "      <th>65</th>\n",
       "      <td>Bennett Petroleum, Inc.</td>\n",
       "      <td>1</td>\n",
       "      <td>1.0</td>\n",
       "      <td>1.0</td>\n",
       "    </tr>\n",
       "    <tr>\n",
       "      <th>63</th>\n",
       "      <td>TS Leasing Operations, Inc.</td>\n",
       "      <td>1</td>\n",
       "      <td>1.0</td>\n",
       "      <td>1.0</td>\n",
       "    </tr>\n",
       "    <tr>\n",
       "      <th>57</th>\n",
       "      <td>Campo Verde Oil, Inc.</td>\n",
       "      <td>2</td>\n",
       "      <td>2.0</td>\n",
       "      <td>1.0</td>\n",
       "    </tr>\n",
       "    <tr>\n",
       "      <th>56</th>\n",
       "      <td>J.P. Oil Company, LLC</td>\n",
       "      <td>2</td>\n",
       "      <td>2.0</td>\n",
       "      <td>1.0</td>\n",
       "    </tr>\n",
       "    <tr>\n",
       "      <th>53</th>\n",
       "      <td>Big West of California, LLC</td>\n",
       "      <td>2</td>\n",
       "      <td>2.0</td>\n",
       "      <td>1.0</td>\n",
       "    </tr>\n",
       "    <tr>\n",
       "      <th>44</th>\n",
       "      <td>Summit Energy, LLC</td>\n",
       "      <td>4</td>\n",
       "      <td>4.0</td>\n",
       "      <td>1.0</td>\n",
       "    </tr>\n",
       "  </tbody>\n",
       "</table>\n",
       "</div>"
      ],
      "text/plain": [
       "                  operator_name  well_count  idle_count  idle_rate\n",
       "72                    CMO, Inc.           1         1.0        1.0\n",
       "70               Strata-X, Inc.           1         1.0        1.0\n",
       "67            Andrew L. Newkirk           1         1.0        1.0\n",
       "66         Valid Energy Company           1         1.0        1.0\n",
       "65      Bennett Petroleum, Inc.           1         1.0        1.0\n",
       "63  TS Leasing Operations, Inc.           1         1.0        1.0\n",
       "57        Campo Verde Oil, Inc.           2         2.0        1.0\n",
       "56        J.P. Oil Company, LLC           2         2.0        1.0\n",
       "53  Big West of California, LLC           2         2.0        1.0\n",
       "44           Summit Energy, LLC           4         4.0        1.0"
      ]
     },
     "execution_count": 143,
     "metadata": {},
     "output_type": "execute_result"
    }
   ],
   "source": [
    "df.sort_values(by='idle_rate', ascending=False).head(10)"
   ]
  },
  {
   "cell_type": "code",
   "execution_count": 144,
   "metadata": {},
   "outputs": [],
   "source": [
    "x = df['well_count']\n",
    "y = df['idle_rate']\n",
    "z = df['idle_count']"
   ]
  },
  {
   "cell_type": "code",
   "execution_count": 145,
   "metadata": {},
   "outputs": [
    {
     "data": {
      "image/png": "[encoded data removed]",
      "text/plain": [
       "<Figure size 1440x720 with 1 Axes>"
      ]
     },
     "metadata": {
      "needs_background": "light"
     },
     "output_type": "display_data"
    }
   ],
   "source": [
    "# Change color with c and alpha. I map the color to the X axis value.\n",
    "plt.figure(figsize=(20,10))\n",
    "plt.scatter(x, y, s=z*30, alpha=.4, edgecolors=\"grey\", linewidth=2)\n",
    " \n",
    "# Add titles (main and on axis)\n",
    "plt.xlabel(\"Well Count\")\n",
    "plt.ylabel(\"Idle Rate (idle_count / well_count)\")\n",
    "plt.title('California Operators in Sample')\n",
    "\n",
    "\n",
    " \n",
    "plt.show()\n"
   ]
  },
  {
   "cell_type": "code",
   "execution_count": 146,
   "metadata": {},
   "outputs": [],
   "source": [
    "n= 103450"
   ]
  },
  {
   "cell_type": "code",
   "execution_count": 148,
   "metadata": {},
   "outputs": [
    {
     "data": {
      "text/plain": [
       "0.28999516674722087"
      ]
     },
     "execution_count": 148,
     "metadata": {},
     "output_type": "execute_result"
    }
   ],
   "source": [
    "p = 30000/n\n",
    "p"
   ]
  },
  {
   "cell_type": "code",
   "execution_count": 149,
   "metadata": {},
   "outputs": [
    {
     "data": {
      "text/plain": [
       "53868.55855855856"
      ]
     },
     "execution_count": 149,
     "metadata": {},
     "output_type": "execute_result"
    }
   ],
   "source": [
    "samp_p * n"
   ]
  },
  {
   "cell_type": "code",
   "execution_count": 150,
   "metadata": {},
   "outputs": [],
   "source": [
    "samp_n = 2220"
   ]
  },
  {
   "cell_type": "code",
   "execution_count": 152,
   "metadata": {},
   "outputs": [
    {
     "data": {
      "text/plain": [
       "554.0468468468468"
      ]
     },
     "execution_count": 152,
     "metadata": {},
     "output_type": "execute_result"
    }
   ],
   "source": [
    "samp_var = samp_n * samp_p * (1 - samp_p)\n",
    "samp_var"
   ]
  },
  {
   "cell_type": "code",
   "execution_count": 158,
   "metadata": {},
   "outputs": [
    {
     "data": {
      "text/plain": [
       "0.5207207207207207"
      ]
     },
     "execution_count": 158,
     "metadata": {},
     "output_type": "execute_result"
    }
   ],
   "source": [
    "samp_p"
   ]
  },
  {
   "cell_type": "code",
   "execution_count": 175,
   "metadata": {},
   "outputs": [
    {
     "data": {
      "text/plain": [
       "1.7933137008925024e-114"
      ]
     },
     "execution_count": 175,
     "metadata": {},
     "output_type": "execute_result"
    }
   ],
   "source": [
    "stats.binom_test(1156, n=2220, p=p, alternative='two-sided')"
   ]
  },
  {
   "cell_type": "code",
   "execution_count": null,
   "metadata": {},
   "outputs": [],
   "source": []
  },
  {
   "cell_type": "code",
   "execution_count": null,
   "metadata": {},
   "outputs": [],
   "source": []
  }
 ],
 "metadata": {
  "kernelspec": {
   "display_name": "Python 3",
   "language": "python",
   "name": "python3"
  },
  "language_info": {
   "codemirror_mode": {
    "name": "ipython",
    "version": 3
   },
   "file_extension": ".py",
   "mimetype": "text/x-python",
   "name": "python",
   "nbconvert_exporter": "python",
   "pygments_lexer": "ipython3",
   "version": "3.7.1"
  }
 },
 "nbformat": 4,
 "nbformat_minor": 2
}
