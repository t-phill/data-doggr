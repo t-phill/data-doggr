{
 "cells": [
  {
   "cell_type": "code",
   "execution_count": 1,
   "metadata": {},
   "outputs": [],
   "source": [
    "import pandas as pd \n",
    "import numpy as np \n",
    "import glob\n",
    "\n",
    "import psycopg2\n",
    "import sys\n",
    "from datetime import datetime\n",
    "import pandas.io.sql as psql\n",
    "\n",
    "from db_parse import * \n",
    "from load_post import *\n",
    "from pg import *\n",
    "\n",
    "import matplotlib.pyplot as plt\n",
    "import seaborn as sns\n",
    "\n",
    "from scipy import stats\n",
    "%matplotlib inline\n",
    "from scipy.stats import binom\n"
   ]
  },
  {
   "cell_type": "code",
   "execution_count": 2,
   "metadata": {},
   "outputs": [
    {
     "name": "stdout",
     "output_type": "stream",
     "text": [
      "<class 'pandas.core.frame.DataFrame'>\n",
      "RangeIndex: 103405 entries, 0 to 103404\n",
      "Data columns (total 28 columns):\n",
      "district_num               103405 non-null int64\n",
      "formatted_api_num          103405 non-null object\n",
      "operator_name              103405 non-null object\n",
      "operator_code              103405 non-null object\n",
      "field_name                 103405 non-null object\n",
      "field_code                 103405 non-null int64\n",
      "api_num                    103405 non-null int64\n",
      "lease_name                 69868 non-null object\n",
      "well_num                   103404 non-null object\n",
      "well_status                103405 non-null object\n",
      "pool_welltypes             103405 non-null object\n",
      "section                    103405 non-null int64\n",
      "township                   103405 non-null object\n",
      "range                      103405 non-null object\n",
      "base_meridian              103405 non-null object\n",
      "area_code                  103405 non-null int64\n",
      "area_name                  103405 non-null object\n",
      "latitude                   103405 non-null float64\n",
      "longitude                  103405 non-null float64\n",
      "gissourcecode              103405 non-null object\n",
      "datumcode                  103405 non-null object\n",
      "blmwell                    103405 non-null object\n",
      "dryhole                    103405 non-null object\n",
      "directional                103405 non-null object\n",
      "hydraulically_fractured    103405 non-null object\n",
      "spud_date                  34136 non-null object\n",
      "completion_date            29990 non-null object\n",
      "abandoned_date             195 non-null object\n",
      "dtypes: float64(2), int64(5), object(21)\n",
      "memory usage: 22.1+ MB\n"
     ]
    }
   ],
   "source": [
    "sum_parse().info()"
   ]
  },
  {
   "cell_type": "code",
   "execution_count": null,
   "metadata": {},
   "outputs": [],
   "source": [
    "#parse_excel('/Users/taylorphillips/Downloads/*.xlsx').info()"
   ]
  },
  {
   "cell_type": "code",
   "execution_count": 3,
   "metadata": {},
   "outputs": [],
   "source": [
    "run load_post.py"
   ]
  },
  {
   "cell_type": "code",
   "execution_count": 7,
   "metadata": {},
   "outputs": [
    {
     "name": "stdout",
     "output_type": "stream",
     "text": [
      "Connecting to Database\n",
      "Truncated summary\n",
      "Loaded data into summary\n",
      "DB connection closed.\n",
      "Connecting to Database\n",
      "Truncated production\n",
      "Loaded data into production\n",
      "DB connection closed.\n"
     ]
    }
   ],
   "source": [
    "pg_load_table('/Users/taylorphillips/galvanize/capstone/summary.csv', 'summary', 'welldata', 'localhost', 'taylorphillips')\n",
    "pg_load_table('/Users/taylorphillips/galvanize/capstone/production.csv', 'production', 'welldata', 'localhost', 'taylorphillips')"
   ]
  },
  {
   "cell_type": "code",
   "execution_count": 8,
   "metadata": {},
   "outputs": [],
   "source": [
    "run pg.py"
   ]
  },
  {
   "cell_type": "code",
   "execution_count": 10,
   "metadata": {},
   "outputs": [
    {
     "data": {
      "text/plain": [
       "operator_name    California Resources Elk Hills, LLCChevron U.S...\n",
       "well_count                                                    2352\n",
       "idle_count                                                    1222\n",
       "idle_rate                                                  27.6218\n",
       "dtype: object"
      ]
     },
     "execution_count": 10,
     "metadata": {},
     "output_type": "execute_result"
    }
   ],
   "source": [
    "df.sum()"
   ]
  },
  {
   "cell_type": "code",
   "execution_count": 24,
   "metadata": {},
   "outputs": [
    {
     "name": "stdout",
     "output_type": "stream",
     "text": [
      "<class 'pandas.core.frame.DataFrame'>\n",
      "Int64Index: 73 entries, 0 to 72\n",
      "Data columns (total 4 columns):\n",
      "operator_name    73 non-null object\n",
      "well_count       73 non-null int64\n",
      "idle_count       73 non-null float64\n",
      "idle_rate        73 non-null float64\n",
      "dtypes: float64(2), int64(1), object(1)\n",
      "memory usage: 2.9+ KB\n"
     ]
    }
   ],
   "source": [
    "df.info()"
   ]
  },
  {
   "cell_type": "code",
   "execution_count": 11,
   "metadata": {},
   "outputs": [
    {
     "data": {
      "text/plain": [
       "operator_name    California Resources Elk Hills, LLCChevron U.S...\n",
       "well_count                                                    2371\n",
       "idle_count                                                     711\n",
       "idle_rate                                                  15.7073\n",
       "dtype: object"
      ]
     },
     "execution_count": 11,
     "metadata": {},
     "output_type": "execute_result"
    }
   ],
   "source": [
    "df10.sum()"
   ]
  },
  {
   "cell_type": "code",
   "execution_count": 25,
   "metadata": {},
   "outputs": [
    {
     "name": "stdout",
     "output_type": "stream",
     "text": [
      "<class 'pandas.core.frame.DataFrame'>\n",
      "Int64Index: 75 entries, 0 to 74\n",
      "Data columns (total 4 columns):\n",
      "operator_name    75 non-null object\n",
      "well_count       75 non-null int64\n",
      "idle_count       75 non-null float64\n",
      "idle_rate        75 non-null float64\n",
      "dtypes: float64(2), int64(1), object(1)\n",
      "memory usage: 2.9+ KB\n"
     ]
    }
   ],
   "source": [
    "df10.info()"
   ]
  },
  {
   "cell_type": "code",
   "execution_count": 40,
   "metadata": {},
   "outputs": [],
   "source": [
    "samp_n = 2352\n",
    "samp_x = 1222\n",
    "samp_p = 1222/2352"
   ]
  },
  {
   "cell_type": "code",
   "execution_count": 41,
   "metadata": {},
   "outputs": [],
   "source": [
    "samp10_n = 2371\n",
    "samp10_x = 711\n",
    "samp10_p = 711/2371"
   ]
  },
  {
   "cell_type": "code",
   "execution_count": null,
   "metadata": {},
   "outputs": [],
   "source": []
  },
  {
   "cell_type": "code",
   "execution_count": 28,
   "metadata": {},
   "outputs": [
    {
     "data": {
      "text/html": [
       "<div>\n",
       "<style scoped>\n",
       "    .dataframe tbody tr th:only-of-type {\n",
       "        vertical-align: middle;\n",
       "    }\n",
       "\n",
       "    .dataframe tbody tr th {\n",
       "        vertical-align: top;\n",
       "    }\n",
       "\n",
       "    .dataframe thead th {\n",
       "        text-align: right;\n",
       "    }\n",
       "</style>\n",
       "<table border=\"1\" class=\"dataframe\">\n",
       "  <thead>\n",
       "    <tr style=\"text-align: right;\">\n",
       "      <th></th>\n",
       "      <th>operator_name</th>\n",
       "      <th>well_count</th>\n",
       "      <th>idle_count</th>\n",
       "      <th>idle_rate</th>\n",
       "    </tr>\n",
       "  </thead>\n",
       "  <tbody>\n",
       "    <tr>\n",
       "      <th>0</th>\n",
       "      <td>California Resources Elk Hills, LLC</td>\n",
       "      <td>534</td>\n",
       "      <td>446.0</td>\n",
       "      <td>0.835206</td>\n",
       "    </tr>\n",
       "    <tr>\n",
       "      <th>1</th>\n",
       "      <td>Chevron U.S.A. Inc.</td>\n",
       "      <td>443</td>\n",
       "      <td>170.0</td>\n",
       "      <td>0.383747</td>\n",
       "    </tr>\n",
       "    <tr>\n",
       "      <th>2</th>\n",
       "      <td>California Resources Production Corporation</td>\n",
       "      <td>224</td>\n",
       "      <td>129.0</td>\n",
       "      <td>0.575893</td>\n",
       "    </tr>\n",
       "    <tr>\n",
       "      <th>3</th>\n",
       "      <td>Crimson Resource Management Corp.</td>\n",
       "      <td>142</td>\n",
       "      <td>82.0</td>\n",
       "      <td>0.577465</td>\n",
       "    </tr>\n",
       "    <tr>\n",
       "      <th>4</th>\n",
       "      <td>Vaquero Energy, Inc.</td>\n",
       "      <td>101</td>\n",
       "      <td>35.0</td>\n",
       "      <td>0.346535</td>\n",
       "    </tr>\n",
       "  </tbody>\n",
       "</table>\n",
       "</div>"
      ],
      "text/plain": [
       "                                 operator_name  well_count  idle_count  \\\n",
       "0          California Resources Elk Hills, LLC         534       446.0   \n",
       "1                          Chevron U.S.A. Inc.         443       170.0   \n",
       "2  California Resources Production Corporation         224       129.0   \n",
       "3            Crimson Resource Management Corp.         142        82.0   \n",
       "4                         Vaquero Energy, Inc.         101        35.0   \n",
       "\n",
       "   idle_rate  \n",
       "0   0.835206  \n",
       "1   0.383747  \n",
       "2   0.575893  \n",
       "3   0.577465  \n",
       "4   0.346535  "
      ]
     },
     "execution_count": 28,
     "metadata": {},
     "output_type": "execute_result"
    }
   ],
   "source": [
    "df.head()"
   ]
  },
  {
   "cell_type": "code",
   "execution_count": 29,
   "metadata": {},
   "outputs": [
    {
     "data": {
      "text/html": [
       "<div>\n",
       "<style scoped>\n",
       "    .dataframe tbody tr th:only-of-type {\n",
       "        vertical-align: middle;\n",
       "    }\n",
       "\n",
       "    .dataframe tbody tr th {\n",
       "        vertical-align: top;\n",
       "    }\n",
       "\n",
       "    .dataframe thead th {\n",
       "        text-align: right;\n",
       "    }\n",
       "</style>\n",
       "<table border=\"1\" class=\"dataframe\">\n",
       "  <thead>\n",
       "    <tr style=\"text-align: right;\">\n",
       "      <th></th>\n",
       "      <th>operator_name</th>\n",
       "      <th>well_count</th>\n",
       "      <th>idle_count</th>\n",
       "      <th>idle_rate</th>\n",
       "    </tr>\n",
       "  </thead>\n",
       "  <tbody>\n",
       "    <tr>\n",
       "      <th>0</th>\n",
       "      <td>California Resources Elk Hills, LLC</td>\n",
       "      <td>535</td>\n",
       "      <td>280.0</td>\n",
       "      <td>0.523364</td>\n",
       "    </tr>\n",
       "    <tr>\n",
       "      <th>1</th>\n",
       "      <td>Chevron U.S.A. Inc.</td>\n",
       "      <td>446</td>\n",
       "      <td>105.0</td>\n",
       "      <td>0.235426</td>\n",
       "    </tr>\n",
       "    <tr>\n",
       "      <th>2</th>\n",
       "      <td>California Resources Production Corporation</td>\n",
       "      <td>225</td>\n",
       "      <td>69.0</td>\n",
       "      <td>0.306667</td>\n",
       "    </tr>\n",
       "    <tr>\n",
       "      <th>3</th>\n",
       "      <td>Crimson Resource Management Corp.</td>\n",
       "      <td>142</td>\n",
       "      <td>65.0</td>\n",
       "      <td>0.457746</td>\n",
       "    </tr>\n",
       "    <tr>\n",
       "      <th>4</th>\n",
       "      <td>Vaquero Energy, Inc.</td>\n",
       "      <td>101</td>\n",
       "      <td>21.0</td>\n",
       "      <td>0.207921</td>\n",
       "    </tr>\n",
       "  </tbody>\n",
       "</table>\n",
       "</div>"
      ],
      "text/plain": [
       "                                 operator_name  well_count  idle_count  \\\n",
       "0          California Resources Elk Hills, LLC         535       280.0   \n",
       "1                          Chevron U.S.A. Inc.         446       105.0   \n",
       "2  California Resources Production Corporation         225        69.0   \n",
       "3            Crimson Resource Management Corp.         142        65.0   \n",
       "4                         Vaquero Energy, Inc.         101        21.0   \n",
       "\n",
       "   idle_rate  \n",
       "0   0.523364  \n",
       "1   0.235426  \n",
       "2   0.306667  \n",
       "3   0.457746  \n",
       "4   0.207921  "
      ]
     },
     "execution_count": 29,
     "metadata": {},
     "output_type": "execute_result"
    }
   ],
   "source": [
    "df10.head()"
   ]
  },
  {
   "cell_type": "code",
   "execution_count": null,
   "metadata": {},
   "outputs": [],
   "source": []
  },
  {
   "cell_type": "code",
   "execution_count": 30,
   "metadata": {},
   "outputs": [
    {
     "data": {
      "text/html": [
       "<div>\n",
       "<style scoped>\n",
       "    .dataframe tbody tr th:only-of-type {\n",
       "        vertical-align: middle;\n",
       "    }\n",
       "\n",
       "    .dataframe tbody tr th {\n",
       "        vertical-align: top;\n",
       "    }\n",
       "\n",
       "    .dataframe thead th {\n",
       "        text-align: right;\n",
       "    }\n",
       "</style>\n",
       "<table border=\"1\" class=\"dataframe\">\n",
       "  <thead>\n",
       "    <tr style=\"text-align: right;\">\n",
       "      <th></th>\n",
       "      <th>operator_name</th>\n",
       "      <th>well_count</th>\n",
       "      <th>idle_count</th>\n",
       "      <th>idle_rate</th>\n",
       "    </tr>\n",
       "  </thead>\n",
       "  <tbody>\n",
       "    <tr>\n",
       "      <th>0</th>\n",
       "      <td>California Resources Elk Hills, LLC</td>\n",
       "      <td>534</td>\n",
       "      <td>446.0</td>\n",
       "      <td>0.835206</td>\n",
       "    </tr>\n",
       "    <tr>\n",
       "      <th>1</th>\n",
       "      <td>Chevron U.S.A. Inc.</td>\n",
       "      <td>443</td>\n",
       "      <td>170.0</td>\n",
       "      <td>0.383747</td>\n",
       "    </tr>\n",
       "    <tr>\n",
       "      <th>2</th>\n",
       "      <td>California Resources Production Corporation</td>\n",
       "      <td>224</td>\n",
       "      <td>129.0</td>\n",
       "      <td>0.575893</td>\n",
       "    </tr>\n",
       "    <tr>\n",
       "      <th>3</th>\n",
       "      <td>Crimson Resource Management Corp.</td>\n",
       "      <td>142</td>\n",
       "      <td>82.0</td>\n",
       "      <td>0.577465</td>\n",
       "    </tr>\n",
       "    <tr>\n",
       "      <th>6</th>\n",
       "      <td>E &amp; B Natural Resources Management Corporation</td>\n",
       "      <td>93</td>\n",
       "      <td>49.0</td>\n",
       "      <td>0.526882</td>\n",
       "    </tr>\n",
       "    <tr>\n",
       "      <th>4</th>\n",
       "      <td>Vaquero Energy, Inc.</td>\n",
       "      <td>101</td>\n",
       "      <td>35.0</td>\n",
       "      <td>0.346535</td>\n",
       "    </tr>\n",
       "    <tr>\n",
       "      <th>5</th>\n",
       "      <td>Bellaire Oil Company</td>\n",
       "      <td>99</td>\n",
       "      <td>35.0</td>\n",
       "      <td>0.353535</td>\n",
       "    </tr>\n",
       "    <tr>\n",
       "      <th>12</th>\n",
       "      <td>Berry Petroleum Company, LLC</td>\n",
       "      <td>31</td>\n",
       "      <td>24.0</td>\n",
       "      <td>0.774194</td>\n",
       "    </tr>\n",
       "    <tr>\n",
       "      <th>13</th>\n",
       "      <td>Holmes Western Oil Corporation</td>\n",
       "      <td>26</td>\n",
       "      <td>22.0</td>\n",
       "      <td>0.846154</td>\n",
       "    </tr>\n",
       "    <tr>\n",
       "      <th>20</th>\n",
       "      <td>Alon Bakersfield Property Inc.</td>\n",
       "      <td>21</td>\n",
       "      <td>20.0</td>\n",
       "      <td>0.952381</td>\n",
       "    </tr>\n",
       "  </tbody>\n",
       "</table>\n",
       "</div>"
      ],
      "text/plain": [
       "                                     operator_name  well_count  idle_count  \\\n",
       "0              California Resources Elk Hills, LLC         534       446.0   \n",
       "1                              Chevron U.S.A. Inc.         443       170.0   \n",
       "2      California Resources Production Corporation         224       129.0   \n",
       "3                Crimson Resource Management Corp.         142        82.0   \n",
       "6   E & B Natural Resources Management Corporation          93        49.0   \n",
       "4                             Vaquero Energy, Inc.         101        35.0   \n",
       "5                             Bellaire Oil Company          99        35.0   \n",
       "12                    Berry Petroleum Company, LLC          31        24.0   \n",
       "13                  Holmes Western Oil Corporation          26        22.0   \n",
       "20                  Alon Bakersfield Property Inc.          21        20.0   \n",
       "\n",
       "    idle_rate  \n",
       "0    0.835206  \n",
       "1    0.383747  \n",
       "2    0.575893  \n",
       "3    0.577465  \n",
       "6    0.526882  \n",
       "4    0.346535  \n",
       "5    0.353535  \n",
       "12   0.774194  \n",
       "13   0.846154  \n",
       "20   0.952381  "
      ]
     },
     "execution_count": 30,
     "metadata": {},
     "output_type": "execute_result"
    }
   ],
   "source": [
    "df.sort_values(by='idle_count', ascending=False).head(10)"
   ]
  },
  {
   "cell_type": "code",
   "execution_count": 31,
   "metadata": {},
   "outputs": [
    {
     "data": {
      "text/html": [
       "<div>\n",
       "<style scoped>\n",
       "    .dataframe tbody tr th:only-of-type {\n",
       "        vertical-align: middle;\n",
       "    }\n",
       "\n",
       "    .dataframe tbody tr th {\n",
       "        vertical-align: top;\n",
       "    }\n",
       "\n",
       "    .dataframe thead th {\n",
       "        text-align: right;\n",
       "    }\n",
       "</style>\n",
       "<table border=\"1\" class=\"dataframe\">\n",
       "  <thead>\n",
       "    <tr style=\"text-align: right;\">\n",
       "      <th></th>\n",
       "      <th>operator_name</th>\n",
       "      <th>well_count</th>\n",
       "      <th>idle_count</th>\n",
       "      <th>idle_rate</th>\n",
       "    </tr>\n",
       "  </thead>\n",
       "  <tbody>\n",
       "    <tr>\n",
       "      <th>72</th>\n",
       "      <td>CMO, Inc.</td>\n",
       "      <td>1</td>\n",
       "      <td>1.0</td>\n",
       "      <td>1.0</td>\n",
       "    </tr>\n",
       "    <tr>\n",
       "      <th>69</th>\n",
       "      <td>Strata-X, Inc.</td>\n",
       "      <td>1</td>\n",
       "      <td>1.0</td>\n",
       "      <td>1.0</td>\n",
       "    </tr>\n",
       "    <tr>\n",
       "      <th>67</th>\n",
       "      <td>Andrew L. Newkirk</td>\n",
       "      <td>1</td>\n",
       "      <td>1.0</td>\n",
       "      <td>1.0</td>\n",
       "    </tr>\n",
       "    <tr>\n",
       "      <th>66</th>\n",
       "      <td>Valid Energy Company</td>\n",
       "      <td>1</td>\n",
       "      <td>1.0</td>\n",
       "      <td>1.0</td>\n",
       "    </tr>\n",
       "    <tr>\n",
       "      <th>65</th>\n",
       "      <td>Bennett Petroleum, Inc.</td>\n",
       "      <td>1</td>\n",
       "      <td>1.0</td>\n",
       "      <td>1.0</td>\n",
       "    </tr>\n",
       "    <tr>\n",
       "      <th>63</th>\n",
       "      <td>TS Leasing Operations, Inc.</td>\n",
       "      <td>1</td>\n",
       "      <td>1.0</td>\n",
       "      <td>1.0</td>\n",
       "    </tr>\n",
       "    <tr>\n",
       "      <th>60</th>\n",
       "      <td>Big West of California, LLC</td>\n",
       "      <td>2</td>\n",
       "      <td>2.0</td>\n",
       "      <td>1.0</td>\n",
       "    </tr>\n",
       "    <tr>\n",
       "      <th>57</th>\n",
       "      <td>Campo Verde Oil, Inc.</td>\n",
       "      <td>2</td>\n",
       "      <td>2.0</td>\n",
       "      <td>1.0</td>\n",
       "    </tr>\n",
       "    <tr>\n",
       "      <th>56</th>\n",
       "      <td>J.P. Oil Company, LLC</td>\n",
       "      <td>2</td>\n",
       "      <td>2.0</td>\n",
       "      <td>1.0</td>\n",
       "    </tr>\n",
       "    <tr>\n",
       "      <th>43</th>\n",
       "      <td>Summit Energy, LLC</td>\n",
       "      <td>4</td>\n",
       "      <td>4.0</td>\n",
       "      <td>1.0</td>\n",
       "    </tr>\n",
       "  </tbody>\n",
       "</table>\n",
       "</div>"
      ],
      "text/plain": [
       "                  operator_name  well_count  idle_count  idle_rate\n",
       "72                    CMO, Inc.           1         1.0        1.0\n",
       "69               Strata-X, Inc.           1         1.0        1.0\n",
       "67            Andrew L. Newkirk           1         1.0        1.0\n",
       "66         Valid Energy Company           1         1.0        1.0\n",
       "65      Bennett Petroleum, Inc.           1         1.0        1.0\n",
       "63  TS Leasing Operations, Inc.           1         1.0        1.0\n",
       "60  Big West of California, LLC           2         2.0        1.0\n",
       "57        Campo Verde Oil, Inc.           2         2.0        1.0\n",
       "56        J.P. Oil Company, LLC           2         2.0        1.0\n",
       "43           Summit Energy, LLC           4         4.0        1.0"
      ]
     },
     "execution_count": 31,
     "metadata": {},
     "output_type": "execute_result"
    }
   ],
   "source": [
    "df.sort_values(by='idle_rate', ascending=False).head(10)"
   ]
  },
  {
   "cell_type": "code",
   "execution_count": 32,
   "metadata": {},
   "outputs": [],
   "source": [
    "x = df['well_count']\n",
    "y = df['idle_rate']\n",
    "z = df['idle_count']\n",
    "x2 = df10['well_count']\n",
    "y2 = df10['idle_rate']\n",
    "z2 = df10['idle_count']"
   ]
  },
  {
   "cell_type": "code",
   "execution_count": 33,
   "metadata": {},
   "outputs": [
    {
     "data": {
      "image/png": "[encoded data removed]",
      "text/plain": [
       "<Figure size 1440x720 with 1 Axes>"
      ]
     },
     "metadata": {
      "needs_background": "light"
     },
     "output_type": "display_data"
    }
   ],
   "source": [
    "plt.figure(figsize=(20,10))\n",
    "plt.scatter(x, y, s=z*30, alpha=.4, edgecolors=\"grey\", linewidth=2)\n",
    "plt.xlabel(\"Well Count\")\n",
    "plt.ylabel(\"Idle Rate (idle_count / well_count)\")\n",
    "plt.title('California Operators in Sample')\n",
    "plt.show()\n"
   ]
  },
  {
   "cell_type": "code",
   "execution_count": 34,
   "metadata": {},
   "outputs": [
    {
     "data": {
      "image/png": "[encoded data removed]",
      "text/plain": [
       "<Figure size 1440x720 with 1 Axes>"
      ]
     },
     "metadata": {
      "needs_background": "light"
     },
     "output_type": "display_data"
    }
   ],
   "source": [
    "plt.figure(figsize=(20,10))\n",
    "plt.scatter(x2, y2, s=z2*30, alpha=.4, edgecolors=\"grey\", linewidth=2)\n",
    "plt.xlabel(\"Well Count\")\n",
    "plt.ylabel(\"Idle Rate (idle_count / well_count)\")\n",
    "plt.title('California Operators in Sample')\n",
    "plt.show()"
   ]
  },
  {
   "cell_type": "code",
   "execution_count": 35,
   "metadata": {},
   "outputs": [
    {
     "data": {
      "text/plain": [
       "587.1003401360545"
      ]
     },
     "execution_count": 35,
     "metadata": {},
     "output_type": "execute_result"
    }
   ],
   "source": [
    "samp_var = samp_n * samp_p * (1 - samp_p)\n",
    "samp_var"
   ]
  },
  {
   "cell_type": "code",
   "execution_count": 37,
   "metadata": {},
   "outputs": [
    {
     "data": {
      "text/plain": [
       "497.7899620413328"
      ]
     },
     "execution_count": 37,
     "metadata": {},
     "output_type": "execute_result"
    }
   ],
   "source": [
    "samp10_var = samp10_n * samp10_p * (1 - samp10_p)\n",
    "samp10_var"
   ]
  },
  {
   "cell_type": "code",
   "execution_count": 44,
   "metadata": {},
   "outputs": [],
   "source": [
    "p = 30000 / 103405"
   ]
  },
  {
   "cell_type": "code",
   "execution_count": 47,
   "metadata": {},
   "outputs": [
    {
     "data": {
      "text/plain": [
       "5.936668988722371e-120"
      ]
     },
     "execution_count": 47,
     "metadata": {},
     "output_type": "execute_result"
    }
   ],
   "source": [
    "stats.binom_test(samp_x, n=samp_n, p=p, alternative='greater')"
   ]
  },
  {
   "cell_type": "code",
   "execution_count": 48,
   "metadata": {},
   "outputs": [
    {
     "data": {
      "text/plain": [
       "0.15301161169114375"
      ]
     },
     "execution_count": 48,
     "metadata": {},
     "output_type": "execute_result"
    }
   ],
   "source": [
    "stats.binom_test(samp10_x, n=samp10_n, p=p, alternative='greater')"
   ]
  },
  {
   "cell_type": "code",
   "execution_count": null,
   "metadata": {},
   "outputs": [],
   "source": []
  },
  {
   "cell_type": "code",
   "execution_count": null,
   "metadata": {},
   "outputs": [],
   "source": []
  },
  {
   "cell_type": "code",
   "execution_count": null,
   "metadata": {},
   "outputs": [],
   "source": []
  },
  {
   "cell_type": "code",
   "execution_count": null,
   "metadata": {},
   "outputs": [],
   "source": []
  },
  {
   "cell_type": "code",
   "execution_count": null,
   "metadata": {},
   "outputs": [],
   "source": []
  }
 ],
 "metadata": {
  "kernelspec": {
   "display_name": "Python 3",
   "language": "python",
   "name": "python3"
  },
  "language_info": {
   "codemirror_mode": {
    "name": "ipython",
    "version": 3
   },
   "file_extension": ".py",
   "mimetype": "text/x-python",
   "name": "python",
   "nbconvert_exporter": "python",
   "pygments_lexer": "ipython3",
   "version": "3.7.1"
  }
 },
 "nbformat": 4,
 "nbformat_minor": 2
}
